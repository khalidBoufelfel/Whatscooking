{
 "cells": [
  {
   "cell_type": "code",
   "execution_count": 1,
   "metadata": {},
   "outputs": [],
   "source": [
    "#Used libraries\n",
    "import numpy as np # for linear algebra (multidimensional arrays)\n",
    "import pandas as pd # data processing, CSV, Json, etc. file I/O \n",
    "from matplotlib import pyplot as plt #for plotting "
   ]
  },
  {
   "cell_type": "markdown",
   "metadata": {},
   "source": [
    "# Exploratory Analysis"
   ]
  },
  {
   "cell_type": "code",
   "execution_count": 2,
   "metadata": {},
   "outputs": [],
   "source": [
    "traindf = pd.read_json('train.json', orient='columns')\n",
    "testdf = pd.read_json('test.json', orient='columns')"
   ]
  },
  {
   "cell_type": "markdown",
   "metadata": {},
   "source": [
    "Exploring Training-set"
   ]
  },
  {
   "cell_type": "code",
   "execution_count": 3,
   "metadata": {},
   "outputs": [
    {
     "data": {
      "text/html": [
       "<div>\n",
       "<style scoped>\n",
       "    .dataframe tbody tr th:only-of-type {\n",
       "        vertical-align: middle;\n",
       "    }\n",
       "\n",
       "    .dataframe tbody tr th {\n",
       "        vertical-align: top;\n",
       "    }\n",
       "\n",
       "    .dataframe thead th {\n",
       "        text-align: right;\n",
       "    }\n",
       "</style>\n",
       "<table border=\"1\" class=\"dataframe\">\n",
       "  <thead>\n",
       "    <tr style=\"text-align: right;\">\n",
       "      <th></th>\n",
       "      <th>cuisine</th>\n",
       "      <th>id</th>\n",
       "      <th>ingredients</th>\n",
       "    </tr>\n",
       "  </thead>\n",
       "  <tbody>\n",
       "    <tr>\n",
       "      <th>0</th>\n",
       "      <td>greek</td>\n",
       "      <td>10259</td>\n",
       "      <td>[romaine lettuce, black olives, grape tomatoes...</td>\n",
       "    </tr>\n",
       "    <tr>\n",
       "      <th>1</th>\n",
       "      <td>southern_us</td>\n",
       "      <td>25693</td>\n",
       "      <td>[plain flour, ground pepper, salt, tomatoes, g...</td>\n",
       "    </tr>\n",
       "    <tr>\n",
       "      <th>2</th>\n",
       "      <td>filipino</td>\n",
       "      <td>20130</td>\n",
       "      <td>[eggs, pepper, salt, mayonaise, cooking oil, g...</td>\n",
       "    </tr>\n",
       "    <tr>\n",
       "      <th>3</th>\n",
       "      <td>indian</td>\n",
       "      <td>22213</td>\n",
       "      <td>[water, vegetable oil, wheat, salt]</td>\n",
       "    </tr>\n",
       "    <tr>\n",
       "      <th>4</th>\n",
       "      <td>indian</td>\n",
       "      <td>13162</td>\n",
       "      <td>[black pepper, shallots, cornflour, cayenne pe...</td>\n",
       "    </tr>\n",
       "    <tr>\n",
       "      <th>5</th>\n",
       "      <td>jamaican</td>\n",
       "      <td>6602</td>\n",
       "      <td>[plain flour, sugar, butter, eggs, fresh ginge...</td>\n",
       "    </tr>\n",
       "    <tr>\n",
       "      <th>6</th>\n",
       "      <td>spanish</td>\n",
       "      <td>42779</td>\n",
       "      <td>[olive oil, salt, medium shrimp, pepper, garli...</td>\n",
       "    </tr>\n",
       "    <tr>\n",
       "      <th>7</th>\n",
       "      <td>italian</td>\n",
       "      <td>3735</td>\n",
       "      <td>[sugar, pistachio nuts, white almond bark, flo...</td>\n",
       "    </tr>\n",
       "    <tr>\n",
       "      <th>8</th>\n",
       "      <td>mexican</td>\n",
       "      <td>16903</td>\n",
       "      <td>[olive oil, purple onion, fresh pineapple, por...</td>\n",
       "    </tr>\n",
       "    <tr>\n",
       "      <th>9</th>\n",
       "      <td>italian</td>\n",
       "      <td>12734</td>\n",
       "      <td>[chopped tomatoes, fresh basil, garlic, extra-...</td>\n",
       "    </tr>\n",
       "    <tr>\n",
       "      <th>10</th>\n",
       "      <td>italian</td>\n",
       "      <td>5875</td>\n",
       "      <td>[pimentos, sweet pepper, dried oregano, olive ...</td>\n",
       "    </tr>\n",
       "    <tr>\n",
       "      <th>11</th>\n",
       "      <td>chinese</td>\n",
       "      <td>45887</td>\n",
       "      <td>[low sodium soy sauce, fresh ginger, dry musta...</td>\n",
       "    </tr>\n",
       "    <tr>\n",
       "      <th>12</th>\n",
       "      <td>italian</td>\n",
       "      <td>2698</td>\n",
       "      <td>[Italian parsley leaves, walnuts, hot red pepp...</td>\n",
       "    </tr>\n",
       "    <tr>\n",
       "      <th>13</th>\n",
       "      <td>mexican</td>\n",
       "      <td>41995</td>\n",
       "      <td>[ground cinnamon, fresh cilantro, chili powder...</td>\n",
       "    </tr>\n",
       "    <tr>\n",
       "      <th>14</th>\n",
       "      <td>italian</td>\n",
       "      <td>31908</td>\n",
       "      <td>[fresh parmesan cheese, butter, all-purpose fl...</td>\n",
       "    </tr>\n",
       "    <tr>\n",
       "      <th>15</th>\n",
       "      <td>indian</td>\n",
       "      <td>24717</td>\n",
       "      <td>[tumeric, vegetable stock, tomatoes, garam mas...</td>\n",
       "    </tr>\n",
       "    <tr>\n",
       "      <th>16</th>\n",
       "      <td>british</td>\n",
       "      <td>34466</td>\n",
       "      <td>[greek yogurt, lemon curd, confectioners sugar...</td>\n",
       "    </tr>\n",
       "    <tr>\n",
       "      <th>17</th>\n",
       "      <td>italian</td>\n",
       "      <td>1420</td>\n",
       "      <td>[italian seasoning, broiler-fryer chicken, may...</td>\n",
       "    </tr>\n",
       "    <tr>\n",
       "      <th>18</th>\n",
       "      <td>thai</td>\n",
       "      <td>2941</td>\n",
       "      <td>[sugar, hot chili, asian fish sauce, lime juice]</td>\n",
       "    </tr>\n",
       "    <tr>\n",
       "      <th>19</th>\n",
       "      <td>vietnamese</td>\n",
       "      <td>8152</td>\n",
       "      <td>[soy sauce, vegetable oil, red bell pepper, ch...</td>\n",
       "    </tr>\n",
       "  </tbody>\n",
       "</table>\n",
       "</div>"
      ],
      "text/plain": [
       "        cuisine     id                                        ingredients\n",
       "0         greek  10259  [romaine lettuce, black olives, grape tomatoes...\n",
       "1   southern_us  25693  [plain flour, ground pepper, salt, tomatoes, g...\n",
       "2      filipino  20130  [eggs, pepper, salt, mayonaise, cooking oil, g...\n",
       "3        indian  22213                [water, vegetable oil, wheat, salt]\n",
       "4        indian  13162  [black pepper, shallots, cornflour, cayenne pe...\n",
       "5      jamaican   6602  [plain flour, sugar, butter, eggs, fresh ginge...\n",
       "6       spanish  42779  [olive oil, salt, medium shrimp, pepper, garli...\n",
       "7       italian   3735  [sugar, pistachio nuts, white almond bark, flo...\n",
       "8       mexican  16903  [olive oil, purple onion, fresh pineapple, por...\n",
       "9       italian  12734  [chopped tomatoes, fresh basil, garlic, extra-...\n",
       "10      italian   5875  [pimentos, sweet pepper, dried oregano, olive ...\n",
       "11      chinese  45887  [low sodium soy sauce, fresh ginger, dry musta...\n",
       "12      italian   2698  [Italian parsley leaves, walnuts, hot red pepp...\n",
       "13      mexican  41995  [ground cinnamon, fresh cilantro, chili powder...\n",
       "14      italian  31908  [fresh parmesan cheese, butter, all-purpose fl...\n",
       "15       indian  24717  [tumeric, vegetable stock, tomatoes, garam mas...\n",
       "16      british  34466  [greek yogurt, lemon curd, confectioners sugar...\n",
       "17      italian   1420  [italian seasoning, broiler-fryer chicken, may...\n",
       "18         thai   2941   [sugar, hot chili, asian fish sauce, lime juice]\n",
       "19   vietnamese   8152  [soy sauce, vegetable oil, red bell pepper, ch..."
      ]
     },
     "execution_count": 3,
     "metadata": {},
     "output_type": "execute_result"
    }
   ],
   "source": [
    "#Displaying 20 first rows to discover the general data structure with some values\n",
    "traindf.head(20)"
   ]
  },
  {
   "cell_type": "code",
   "execution_count": 4,
   "metadata": {},
   "outputs": [
    {
     "name": "stdout",
     "output_type": "stream",
     "text": [
      "<class 'pandas.core.frame.DataFrame'>\n",
      "RangeIndex: 39774 entries, 0 to 39773\n",
      "Data columns (total 3 columns):\n",
      "cuisine        39774 non-null object\n",
      "id             39774 non-null int64\n",
      "ingredients    39774 non-null object\n",
      "dtypes: int64(1), object(2)\n",
      "memory usage: 932.3+ KB\n"
     ]
    }
   ],
   "source": [
    "#Information about the training-set (each attribute, its type and the number of its elements)\n",
    "traindf.info()"
   ]
  },
  {
   "cell_type": "markdown",
   "metadata": {},
   "source": [
    "we have 39774 elements in total without null ones, ides are of int64 type, cuisine and ingredients are of object type"
   ]
  },
  {
   "cell_type": "code",
   "execution_count": 5,
   "metadata": {},
   "outputs": [
    {
     "name": "stdout",
     "output_type": "stream",
     "text": [
      "the number of total recipes in the training set is :  39774\n",
      "the shape of the taining set is :  (39774, 3)  :\n",
      "  39774 objects with  3  attributes each\n"
     ]
    }
   ],
   "source": [
    "print(\"the number of total recipes in the training set is : \", len(traindf))\n",
    "print(\"the shape of the taining set is : \", traindf.shape, \" :\\n \",traindf.shape[0], \"objects with \", traindf.shape[1],\" attributes each\")"
   ]
  },
  {
   "cell_type": "markdown",
   "metadata": {},
   "source": [
    "Test-set exploration and quick overview"
   ]
  },
  {
   "cell_type": "code",
   "execution_count": 6,
   "metadata": {},
   "outputs": [
    {
     "data": {
      "text/html": [
       "<div>\n",
       "<style scoped>\n",
       "    .dataframe tbody tr th:only-of-type {\n",
       "        vertical-align: middle;\n",
       "    }\n",
       "\n",
       "    .dataframe tbody tr th {\n",
       "        vertical-align: top;\n",
       "    }\n",
       "\n",
       "    .dataframe thead th {\n",
       "        text-align: right;\n",
       "    }\n",
       "</style>\n",
       "<table border=\"1\" class=\"dataframe\">\n",
       "  <thead>\n",
       "    <tr style=\"text-align: right;\">\n",
       "      <th></th>\n",
       "      <th>id</th>\n",
       "      <th>ingredients</th>\n",
       "    </tr>\n",
       "  </thead>\n",
       "  <tbody>\n",
       "    <tr>\n",
       "      <th>0</th>\n",
       "      <td>18009</td>\n",
       "      <td>[baking powder, eggs, all-purpose flour, raisi...</td>\n",
       "    </tr>\n",
       "    <tr>\n",
       "      <th>1</th>\n",
       "      <td>28583</td>\n",
       "      <td>[sugar, egg yolks, corn starch, cream of tarta...</td>\n",
       "    </tr>\n",
       "    <tr>\n",
       "      <th>2</th>\n",
       "      <td>41580</td>\n",
       "      <td>[sausage links, fennel bulb, fronds, olive oil...</td>\n",
       "    </tr>\n",
       "    <tr>\n",
       "      <th>3</th>\n",
       "      <td>29752</td>\n",
       "      <td>[meat cuts, file powder, smoked sausage, okra,...</td>\n",
       "    </tr>\n",
       "    <tr>\n",
       "      <th>4</th>\n",
       "      <td>35687</td>\n",
       "      <td>[ground black pepper, salt, sausage casings, l...</td>\n",
       "    </tr>\n",
       "    <tr>\n",
       "      <th>5</th>\n",
       "      <td>38527</td>\n",
       "      <td>[baking powder, all-purpose flour, peach slice...</td>\n",
       "    </tr>\n",
       "    <tr>\n",
       "      <th>6</th>\n",
       "      <td>19666</td>\n",
       "      <td>[grape juice, orange, white zinfandel]</td>\n",
       "    </tr>\n",
       "    <tr>\n",
       "      <th>7</th>\n",
       "      <td>41217</td>\n",
       "      <td>[ground ginger, white pepper, green onions, or...</td>\n",
       "    </tr>\n",
       "    <tr>\n",
       "      <th>8</th>\n",
       "      <td>28753</td>\n",
       "      <td>[diced onions, taco seasoning mix, all-purpose...</td>\n",
       "    </tr>\n",
       "    <tr>\n",
       "      <th>9</th>\n",
       "      <td>22659</td>\n",
       "      <td>[eggs, cherries, dates, dark muscovado sugar, ...</td>\n",
       "    </tr>\n",
       "    <tr>\n",
       "      <th>10</th>\n",
       "      <td>21749</td>\n",
       "      <td>[pasta, olive oil, crushed red pepper, cherry ...</td>\n",
       "    </tr>\n",
       "    <tr>\n",
       "      <th>11</th>\n",
       "      <td>44967</td>\n",
       "      <td>[water, butter, ground sumac, ground lamb, gro...</td>\n",
       "    </tr>\n",
       "    <tr>\n",
       "      <th>12</th>\n",
       "      <td>42969</td>\n",
       "      <td>[curry powder, ground cumin, chicken wings, ch...</td>\n",
       "    </tr>\n",
       "    <tr>\n",
       "      <th>13</th>\n",
       "      <td>44883</td>\n",
       "      <td>[pasta, marinara sauce, dried basil, chicken f...</td>\n",
       "    </tr>\n",
       "    <tr>\n",
       "      <th>14</th>\n",
       "      <td>20827</td>\n",
       "      <td>[salt, custard powder, white sugar, eggs, marg...</td>\n",
       "    </tr>\n",
       "    <tr>\n",
       "      <th>15</th>\n",
       "      <td>23196</td>\n",
       "      <td>[vegetable oil cooking spray, egg whites, apri...</td>\n",
       "    </tr>\n",
       "    <tr>\n",
       "      <th>16</th>\n",
       "      <td>35387</td>\n",
       "      <td>[vanilla ice cream, banana liqueur, bananas, p...</td>\n",
       "    </tr>\n",
       "    <tr>\n",
       "      <th>17</th>\n",
       "      <td>33780</td>\n",
       "      <td>[molasses, hot sauce, baked beans, Grey Poupon...</td>\n",
       "    </tr>\n",
       "    <tr>\n",
       "      <th>18</th>\n",
       "      <td>19001</td>\n",
       "      <td>[chopped green chilies, sour cream, cheddar ch...</td>\n",
       "    </tr>\n",
       "    <tr>\n",
       "      <th>19</th>\n",
       "      <td>16526</td>\n",
       "      <td>[cold water, chicken drumsticks, chicken thigh...</td>\n",
       "    </tr>\n",
       "  </tbody>\n",
       "</table>\n",
       "</div>"
      ],
      "text/plain": [
       "       id                                        ingredients\n",
       "0   18009  [baking powder, eggs, all-purpose flour, raisi...\n",
       "1   28583  [sugar, egg yolks, corn starch, cream of tarta...\n",
       "2   41580  [sausage links, fennel bulb, fronds, olive oil...\n",
       "3   29752  [meat cuts, file powder, smoked sausage, okra,...\n",
       "4   35687  [ground black pepper, salt, sausage casings, l...\n",
       "5   38527  [baking powder, all-purpose flour, peach slice...\n",
       "6   19666             [grape juice, orange, white zinfandel]\n",
       "7   41217  [ground ginger, white pepper, green onions, or...\n",
       "8   28753  [diced onions, taco seasoning mix, all-purpose...\n",
       "9   22659  [eggs, cherries, dates, dark muscovado sugar, ...\n",
       "10  21749  [pasta, olive oil, crushed red pepper, cherry ...\n",
       "11  44967  [water, butter, ground sumac, ground lamb, gro...\n",
       "12  42969  [curry powder, ground cumin, chicken wings, ch...\n",
       "13  44883  [pasta, marinara sauce, dried basil, chicken f...\n",
       "14  20827  [salt, custard powder, white sugar, eggs, marg...\n",
       "15  23196  [vegetable oil cooking spray, egg whites, apri...\n",
       "16  35387  [vanilla ice cream, banana liqueur, bananas, p...\n",
       "17  33780  [molasses, hot sauce, baked beans, Grey Poupon...\n",
       "18  19001  [chopped green chilies, sour cream, cheddar ch...\n",
       "19  16526  [cold water, chicken drumsticks, chicken thigh..."
      ]
     },
     "execution_count": 6,
     "metadata": {},
     "output_type": "execute_result"
    }
   ],
   "source": [
    "testdf.head(20)"
   ]
  },
  {
   "cell_type": "markdown",
   "metadata": {},
   "source": [
    "The target variable is cuisine which is not present in the test-set"
   ]
  },
  {
   "cell_type": "code",
   "execution_count": 7,
   "metadata": {},
   "outputs": [
    {
     "name": "stdout",
     "output_type": "stream",
     "text": [
      "<class 'pandas.core.frame.DataFrame'>\n",
      "RangeIndex: 9944 entries, 0 to 9943\n",
      "Data columns (total 2 columns):\n",
      "id             9944 non-null int64\n",
      "ingredients    9944 non-null object\n",
      "dtypes: int64(1), object(1)\n",
      "memory usage: 155.5+ KB\n"
     ]
    }
   ],
   "source": [
    "#Information about the test-set (each attribute, its type and the number of its elements)\n",
    "testdf.info()"
   ]
  },
  {
   "cell_type": "markdown",
   "metadata": {},
   "source": [
    "We have 9944 elements in total without null ones, ides are of int64 type, ingredients are of object type"
   ]
  },
  {
   "cell_type": "code",
   "execution_count": 8,
   "metadata": {},
   "outputs": [
    {
     "name": "stdout",
     "output_type": "stream",
     "text": [
      "the number of total recipes in the test-set is :  9944\n",
      "the shape of the test set is :  (9944, 2)  :\n",
      "  9944 objects with  2  attributes each\n",
      "the proportion of the test-set is :  20.000804537592018 % of total data\n"
     ]
    }
   ],
   "source": [
    "print(\"the number of total recipes in the test-set is : \", len(testdf))\n",
    "print(\"the shape of the test set is : \", testdf.shape, \" :\\n \",testdf.shape[0], \"objects with \", testdf.shape[1],\" attributes each\")\n",
    "print(\"the proportion of the test-set is : \", 100*len(testdf)/(len(traindf) + len(testdf)), \"% of total data\")"
   ]
  },
  {
   "cell_type": "markdown",
   "metadata": {},
   "source": [
    "# In depth Data and target variable analysis"
   ]
  },
  {
   "cell_type": "code",
   "execution_count": 9,
   "metadata": {},
   "outputs": [
    {
     "name": "stdout",
     "output_type": "stream",
     "text": [
      "The number of distinct countries (same class recipes) is :  20\n",
      "These countries are :                 0\n",
      "0          greek\n",
      "1    southern_us\n",
      "2       filipino\n",
      "3         indian\n",
      "4       jamaican\n",
      "5        spanish\n",
      "6        italian\n",
      "7        mexican\n",
      "8        chinese\n",
      "9        british\n",
      "10          thai\n",
      "11    vietnamese\n",
      "12  cajun_creole\n",
      "13     brazilian\n",
      "14        french\n",
      "15      japanese\n",
      "16         irish\n",
      "17        korean\n",
      "18      moroccan\n",
      "19       russian\n"
     ]
    }
   ],
   "source": [
    "print(\"The number of distinct countries (same class recipes) is : \", len(traindf.cuisine.unique()))\n",
    "print(\"These countries are : \", pd.DataFrame(traindf.cuisine.unique()))"
   ]
  },
  {
   "cell_type": "markdown",
   "metadata": {},
   "source": [
    "We have more than 2 classes (countries) to predict, so we're dealing with a multi-class classification problem"
   ]
  },
  {
   "cell_type": "code",
   "execution_count": 10,
   "metadata": {},
   "outputs": [
    {
     "name": "stdout",
     "output_type": "stream",
     "text": [
      "The number of recipes per countries is : \n"
     ]
    },
    {
     "data": {
      "text/html": [
       "<div>\n",
       "<style scoped>\n",
       "    .dataframe tbody tr th:only-of-type {\n",
       "        vertical-align: middle;\n",
       "    }\n",
       "\n",
       "    .dataframe tbody tr th {\n",
       "        vertical-align: top;\n",
       "    }\n",
       "\n",
       "    .dataframe thead th {\n",
       "        text-align: right;\n",
       "    }\n",
       "</style>\n",
       "<table border=\"1\" class=\"dataframe\">\n",
       "  <thead>\n",
       "    <tr style=\"text-align: right;\">\n",
       "      <th></th>\n",
       "      <th>cuisine (country)</th>\n",
       "      <th>Number of recipes</th>\n",
       "    </tr>\n",
       "  </thead>\n",
       "  <tbody>\n",
       "    <tr>\n",
       "      <th>0</th>\n",
       "      <td>italian</td>\n",
       "      <td>7838</td>\n",
       "    </tr>\n",
       "    <tr>\n",
       "      <th>1</th>\n",
       "      <td>mexican</td>\n",
       "      <td>6438</td>\n",
       "    </tr>\n",
       "    <tr>\n",
       "      <th>2</th>\n",
       "      <td>southern_us</td>\n",
       "      <td>4320</td>\n",
       "    </tr>\n",
       "    <tr>\n",
       "      <th>3</th>\n",
       "      <td>indian</td>\n",
       "      <td>3003</td>\n",
       "    </tr>\n",
       "    <tr>\n",
       "      <th>4</th>\n",
       "      <td>chinese</td>\n",
       "      <td>2673</td>\n",
       "    </tr>\n",
       "    <tr>\n",
       "      <th>5</th>\n",
       "      <td>french</td>\n",
       "      <td>2646</td>\n",
       "    </tr>\n",
       "    <tr>\n",
       "      <th>6</th>\n",
       "      <td>cajun_creole</td>\n",
       "      <td>1546</td>\n",
       "    </tr>\n",
       "    <tr>\n",
       "      <th>7</th>\n",
       "      <td>thai</td>\n",
       "      <td>1539</td>\n",
       "    </tr>\n",
       "    <tr>\n",
       "      <th>8</th>\n",
       "      <td>japanese</td>\n",
       "      <td>1423</td>\n",
       "    </tr>\n",
       "    <tr>\n",
       "      <th>9</th>\n",
       "      <td>greek</td>\n",
       "      <td>1175</td>\n",
       "    </tr>\n",
       "    <tr>\n",
       "      <th>10</th>\n",
       "      <td>spanish</td>\n",
       "      <td>989</td>\n",
       "    </tr>\n",
       "    <tr>\n",
       "      <th>11</th>\n",
       "      <td>korean</td>\n",
       "      <td>830</td>\n",
       "    </tr>\n",
       "    <tr>\n",
       "      <th>12</th>\n",
       "      <td>vietnamese</td>\n",
       "      <td>825</td>\n",
       "    </tr>\n",
       "    <tr>\n",
       "      <th>13</th>\n",
       "      <td>moroccan</td>\n",
       "      <td>821</td>\n",
       "    </tr>\n",
       "    <tr>\n",
       "      <th>14</th>\n",
       "      <td>british</td>\n",
       "      <td>804</td>\n",
       "    </tr>\n",
       "    <tr>\n",
       "      <th>15</th>\n",
       "      <td>filipino</td>\n",
       "      <td>755</td>\n",
       "    </tr>\n",
       "    <tr>\n",
       "      <th>16</th>\n",
       "      <td>irish</td>\n",
       "      <td>667</td>\n",
       "    </tr>\n",
       "    <tr>\n",
       "      <th>17</th>\n",
       "      <td>jamaican</td>\n",
       "      <td>526</td>\n",
       "    </tr>\n",
       "    <tr>\n",
       "      <th>18</th>\n",
       "      <td>russian</td>\n",
       "      <td>489</td>\n",
       "    </tr>\n",
       "    <tr>\n",
       "      <th>19</th>\n",
       "      <td>brazilian</td>\n",
       "      <td>467</td>\n",
       "    </tr>\n",
       "  </tbody>\n",
       "</table>\n",
       "</div>"
      ],
      "text/plain": [
       "   cuisine (country)  Number of recipes\n",
       "0            italian               7838\n",
       "1            mexican               6438\n",
       "2        southern_us               4320\n",
       "3             indian               3003\n",
       "4            chinese               2673\n",
       "5             french               2646\n",
       "6       cajun_creole               1546\n",
       "7               thai               1539\n",
       "8           japanese               1423\n",
       "9              greek               1175\n",
       "10           spanish                989\n",
       "11            korean                830\n",
       "12        vietnamese                825\n",
       "13          moroccan                821\n",
       "14           british                804\n",
       "15          filipino                755\n",
       "16             irish                667\n",
       "17          jamaican                526\n",
       "18           russian                489\n",
       "19         brazilian                467"
      ]
     },
     "execution_count": 10,
     "metadata": {},
     "output_type": "execute_result"
    }
   ],
   "source": [
    "print(\"The number of recipes per countries is : \" )\n",
    "\n",
    "n_recipes_per_country = traindf.groupby(\"cuisine\")['id'].count().sort_values(ascending =False).reset_index().rename(columns={'cuisine':\"cuisine (country)\", 'id':\"Number of recipes\"})\n",
    "n_recipes_per_country"
   ]
  },
  {
   "cell_type": "code",
   "execution_count": null,
   "metadata": {},
   "outputs": [],
   "source": []
  },
  {
   "cell_type": "code",
   "execution_count": 31,
   "metadata": {},
   "outputs": [
    {
     "data": {
      "image/png": "[encoded data removed]",
      "text/plain": [
       "<Figure size 432x288 with 1 Axes>"
      ]
     },
     "metadata": {},
     "output_type": "display_data"
    }
   ],
   "source": [
    "# plotting those recipes for more visibity\n",
    "width = 1000\n",
    "x_axis = n_recipes_per_country[\"Number of recipes\"].tolist()[::-1]\n",
    "y_axis = n_recipes_per_country[\"cuisine (country)\"].tolist()[::-1]\n",
    "plt.bar(x_axis, y_axis, width=width, label = \"number of recipes per country\", color = \"#155648\")\n",
    "#plt.xticks(x_axis,x)\n",
    "plt.xlabel(\"Number of recipes\")\n",
    "plt.ylabel(\"Country\")\n",
    "plt.legend()\n",
    "plt.title(\"Sorted number of recipes per country\")\n",
    "plt.show()"
   ]
  },
  {
   "cell_type": "code",
   "execution_count": null,
   "metadata": {},
   "outputs": [],
   "source": []
  },
  {
   "cell_type": "code",
   "execution_count": null,
   "metadata": {},
   "outputs": [],
   "source": []
  },
  {
   "cell_type": "code",
   "execution_count": null,
   "metadata": {},
   "outputs": [],
   "source": []
  },
  {
   "cell_type": "code",
   "execution_count": null,
   "metadata": {},
   "outputs": [],
   "source": []
  },
  {
   "cell_type": "code",
   "execution_count": null,
   "metadata": {},
   "outputs": [],
   "source": []
  },
  {
   "cell_type": "code",
   "execution_count": null,
   "metadata": {},
   "outputs": [],
   "source": []
  },
  {
   "cell_type": "code",
   "execution_count": null,
   "metadata": {},
   "outputs": [],
   "source": []
  },
  {
   "cell_type": "code",
   "execution_count": null,
   "metadata": {},
   "outputs": [],
   "source": []
  },
  {
   "cell_type": "code",
   "execution_count": null,
   "metadata": {},
   "outputs": [],
   "source": []
  },
  {
   "cell_type": "code",
   "execution_count": null,
   "metadata": {},
   "outputs": [],
   "source": []
  },
  {
   "cell_type": "code",
   "execution_count": null,
   "metadata": {},
   "outputs": [],
   "source": []
  },
  {
   "cell_type": "code",
   "execution_count": null,
   "metadata": {},
   "outputs": [],
   "source": []
  },
  {
   "cell_type": "code",
   "execution_count": null,
   "metadata": {},
   "outputs": [],
   "source": []
  },
  {
   "cell_type": "code",
   "execution_count": null,
   "metadata": {},
   "outputs": [],
   "source": []
  }
 ],
 "metadata": {
  "kernelspec": {
   "display_name": "Python 3",
   "language": "python",
   "name": "python3"
  },
  "language_info": {
   "codemirror_mode": {
    "name": "ipython",
    "version": 3
   },
   "file_extension": ".py",
   "mimetype": "text/x-python",
   "name": "python",
   "nbconvert_exporter": "python",
   "pygments_lexer": "ipython3",
   "version": "3.6.5"
  }
 },
 "nbformat": 4,
 "nbformat_minor": 2
}
